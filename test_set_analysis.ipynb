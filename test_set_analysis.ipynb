{
  "cells": [
    {
      "cell_type": "markdown",
      "metadata": {
        "id": "hdkDh6V3e3FZ"
      },
      "source": [
        "#YOLO"
      ]
    },
    {
      "cell_type": "code",
      "execution_count": null,
      "metadata": {
        "id": "f9e_h6ysBhO1"
      },
      "outputs": [],
      "source": [
        "yolo_dataset_path = \"./datasets/\"\n",
        "yolo_weights_path = \"./best_try12.pt\""
      ]
    },
    {
      "cell_type": "markdown",
      "metadata": {
        "id": "e3hBwQcR8Umx"
      },
      "source": [
        "# Collego Google Drive"
      ]
    },
    {
      "cell_type": "code",
      "execution_count": null,
      "metadata": {
        "id": "2PhGCA11h5Un"
      },
      "outputs": [],
      "source": [
        "from google.colab import drive\n",
        "drive.mount('/content/drive')"
      ]
    },
    {
      "cell_type": "code",
      "execution_count": null,
      "metadata": {
        "id": "pOSlGxuIj5ak"
      },
      "outputs": [],
      "source": [
        "!cp \"/content/drive/MyDrive/Colab Notebooks/ProgettoML4VM/Datasets/GTSDB_Yolo_trafficlight.zip\" ./"
      ]
    },
    {
      "cell_type": "code",
      "execution_count": null,
      "metadata": {
        "id": "ZFvQW4LFk0ZF"
      },
      "outputs": [],
      "source": [
        "!cp \"/content/drive/MyDrive/Colab Notebooks/ProgettoML4VM/Yolo/weights/yoloGTSDB/best_try12.pt\" ./"
      ]
    },
    {
      "cell_type": "code",
      "execution_count": null,
      "metadata": {
        "id": "kOxC8HYokfjd"
      },
      "outputs": [],
      "source": [
        "!unzip ./GTSDB_Yolo_trafficlight.zip"
      ]
    },
    {
      "cell_type": "markdown",
      "metadata": {
        "id": "L56iGxxc8oSc"
      },
      "source": [
        "# Installazione librerie necessarie"
      ]
    },
    {
      "cell_type": "code",
      "execution_count": null,
      "metadata": {
        "id": "z_1jf6Bve5_9"
      },
      "outputs": [],
      "source": [
        "!pip install ultralytics"
      ]
    },
    {
      "cell_type": "code",
      "execution_count": null,
      "metadata": {
        "id": "TMBqwe5ygB0Q"
      },
      "outputs": [],
      "source": [
        "from ultralytics import YOLO\n",
        "import cv2\n",
        "from google.colab.patches import cv2_imshow\n",
        "import tqdm\n",
        "import os\n",
        "import numpy as np"
      ]
    },
    {
      "cell_type": "markdown",
      "metadata": {
        "id": "jYRPvxiMVbzb"
      },
      "source": [
        " Link guide\n",
        "\n",
        " https://github.com/ultralytics/ultralytics\n",
        "\n",
        " https://docs.ultralytics.com/usage/python/#predict"
      ]
    },
    {
      "cell_type": "markdown",
      "metadata": {
        "id": "NRSggY5w8CFY"
      },
      "source": [
        "# Funzioni di servizio"
      ]
    },
    {
      "cell_type": "code",
      "execution_count": null,
      "metadata": {
        "id": "N4rLCHhHolZC"
      },
      "outputs": [],
      "source": [
        "\n",
        "# Intersection over union\n",
        "def IoU(y_true, y_pred):\n",
        "\n",
        "  ix1 = np.maximum(y_true[0], y_pred[0])\n",
        "  iy1 = np.maximum(y_true[1], y_pred[1])\n",
        "  ix2 = np.minimum(y_true[2], y_pred[2])\n",
        "  iy2 = np.minimum(y_true[3], y_pred[3])\n",
        "\n",
        "  intersection_height = np.maximum(iy2 - iy1 + 1, 0.0)\n",
        "  intersection_width = np.maximum(ix2 - ix1 + 1, 0.0)\n",
        "\n",
        "  intersection_area = intersection_height * intersection_width\n",
        "\n",
        "  height_true = y_true[3] - y_true[1] + 1\n",
        "  width_true = y_true[2] - y_true[0] + 1\n",
        "\n",
        "  height_pred = y_pred[3] - y_pred[1] + 1\n",
        "  width_pred = y_pred[2] - y_pred[0] + 1\n",
        "\n",
        "  # va sottratta intersection area per non contarla 2 volte\n",
        "  union_area = height_true*width_true + height_pred*width_pred - intersection_area\n",
        "\n",
        "  IoU = intersection_area / union_area\n",
        "\n",
        "  return IoU"
      ]
    },
    {
      "cell_type": "code",
      "execution_count": null,
      "metadata": {
        "id": "xq1P3TrImS-j"
      },
      "outputs": [],
      "source": [
        "def readCorrectLabel(file_path, w_img, h_img):\n",
        "\n",
        "  prediction = []\n",
        "\n",
        "  with open(file_path, 'r') as f:\n",
        "\n",
        "    file_content = f.read()\n",
        "    for line in file_content.split(\"\\n\"):\n",
        "      if(len(line)==0):\n",
        "        continue\n",
        "      (cls, x, y, w, h) = line.split(\" \")\n",
        "      x, y, w, h = float(x), float(y), float(w), float(h)\n",
        "      x, y, w, h = int(x*w_img), int(y*h_img), int(w*w_img), int(h*h_img)\n",
        "      x1, y1, x2, y2 = int(x-w/2), int(y-h/2), int(x+w/2), int(y+h/2)\n",
        "      cls = int(cls)\n",
        "      label = (cls, x1, y1, x2, y2)\n",
        "      prediction.append(label)\n",
        "\n",
        "\n",
        "    return prediction"
      ]
    },
    {
      "cell_type": "markdown",
      "metadata": {
        "id": "7qdKNy7hAm50"
      },
      "source": [
        "# Classi"
      ]
    },
    {
      "cell_type": "code",
      "execution_count": null,
      "metadata": {
        "id": "dwqLS40fAqmt"
      },
      "outputs": [],
      "source": [
        "classNames = [\"SpeedLimit 20 km/h\", \"SpeedLimit 30 km/h\", \"SpeedLimit 50 km/h\", \"SpeedLimit 60 km/h\", \"SpeedLimit 70 km/h\", \"SpeedLimit 80 km/h\", \"RestrictionEnds 80 km/h\", \"SpeedLimit 100 km/h\", \"SpeedLimit 120 km/h\", \"NoOvertaking\", \"NoOvertaking (trucks) \", \"PriorityAtNextIntersection (danger)\", \"PriorityRoad\", \"GiveWay\", \"Stop\", \"NoTrafficBothWays\", \"NoTrucks\", \"NoEntry\", \"Danger\", \"BendLeft (danger)\", \"BendRight (danger)\", \"Bend (danger)\", \"UnevenRoad (danger)\", \"SlipperyRoad (danger)\", \"RoadNarrows (danger)\", \"Construction (danger)\", \"GeneralDanger\", \"PedestrianCrossing (danger)\", \"SchoolCrossing (danger)\", \"CyclesCrossing (danger)\", \"Snow (danger)\", \"Animals (danger)\", \"RestrictionEnds\", \"GoRight (mandatory)\", \"GoLeft (mandatory)\", \"GoStraight (mandatory)\", \"GoRightOrStraight (mandatory)\", \"GoLeftOrStraight (mandatory)\", \"KeepRight (mandatory)\", \"KeepLeft (mandatory)\", \"Roundabout (mandatory)\", \"RestrictionEnds (overtaking)\", \"RestrictionEnds (overtaking trucks)\", \"green trafficlight\", \"red trafficlight\", \"yellow trafficlight\"]\n",
        "\n",
        "classNamesITA = [\"limite velocità 20kmh\", \"limite velocità 30kmh\", \"limite velocità 50kmh\", \"limite velocità 60kmh\", \"limite velocità 70kmh\", \"limite velocità 80kmh\", \"Fine restrizione 80kmh\", \"limite velocità 100kmh\", \"limite velocità 120kmh\", \"sorpasso vietato\", \"sorpasso vietato (Camion)\", \"dare precedenza al prossimo incrocio\", \"strada con priorità\", \"dare precedenza\", \"stop\", \"accesso vietato\", \"vietato (camion)\", \"accesso vietato\", \"pericolo generico\", \"curva sinistra\", \"curva destra\", \"curva\", \"strada sconnessa\", \"strada scivolosa\", \"restringimento carreggiata\", \"lavori in corso\", \"pericolo\", \"attraversamento pedonale\", \"attraversamento scolari\", \"attraversamento bici\", \"neve\", \"animali\", \"fine restrizione\", \"obbligo svoltare destra\", \"obbligo svoltare sinistra\", \"obbligo proseguire dritti\", \"procedere dritto o destra\", \"procedere dritto o a sinistra\", \"tenere la destra\", \"tenere la sinistra\", \"rotatoria\", \"fine restrizione sorpasso\", \"fine restrizione sorpasso (camion)\", \"semaforo verde\", \"semaforo rosso\", \"semaforo giallo\"]\n",
        "\n",
        "\n",
        "print(f\"\\n Il dataset contiene {len(classNames)} classi\\n\")\n",
        "\n",
        "for i  in range(len(classNames)):\n",
        "  print(f\" class {i:02d}:   {classNames[i]:40s} {classNamesITA[i]:40s}\")\n",
        "\n"
      ]
    },
    {
      "cell_type": "markdown",
      "metadata": {
        "id": "T5dtx9rj5369"
      },
      "source": [
        "# Carico il modello"
      ]
    },
    {
      "cell_type": "code",
      "execution_count": null,
      "metadata": {
        "id": "dubQAtNo52go"
      },
      "outputs": [],
      "source": [
        "myModel = YOLO(yolo_weights_path)"
      ]
    },
    {
      "cell_type": "code",
      "execution_count": null,
      "metadata": {
        "id": "DdS7fYQ7PdDX"
      },
      "outputs": [],
      "source": [
        "myModel.val(\n",
        "    data=\"./data_ita.yaml\",\n",
        "    split=\"test\",\n",
        "    iou=0.5, # for non max suppression\n",
        "    )"
      ]
    },
    {
      "cell_type": "markdown",
      "metadata": {
        "id": "MUUWBKjM_SmI"
      },
      "source": [
        "# Valuto i risultati sul test set"
      ]
    },
    {
      "cell_type": "code",
      "execution_count": null,
      "metadata": {
        "id": "EXcBNJO6-q-m"
      },
      "outputs": [],
      "source": [
        "# Statistiche\n",
        "number_of_detected_object = 0\n",
        "IoU_sum = 0.0\n",
        "number_of_object = 0\n",
        "false_detection_tot = 0\n",
        "\n",
        "threshold = 0.5\n",
        "confidence = 0.6\n",
        "\n",
        "\n",
        "# Questa è la predizione faccio la predizione di tutte le immagini nella cartella del validation\n",
        "results = myModel(yolo_dataset_path+\"/images/test\", stream=True, conf=confidence)\n",
        "\n",
        "# stream=True fa la predizione solo quando si va a leggere results cosi da non saturare la ram\n",
        "\n",
        "\n",
        "for result in results:\n",
        "\n",
        "  print(f\"\\n{result.path}:\")\n",
        "\n",
        "  res_plotted = result.plot()\n",
        "  cv2_imshow(res_plotted)\n",
        "\n",
        "  # Stampo le predizioni\n",
        "  print(\"\\nPredicted:\")\n",
        "  boxes = result.boxes\n",
        "  for i in range( len(boxes) ):\n",
        "    cls = int(boxes.cls[i])\n",
        "    conf = float(boxes.conf[i])\n",
        "    x1, y1, x2, y2 = boxes.xyxy[i]\n",
        "    x1, y1, x2, y2 = int(x1), int(y1), int(x2), int(y2)\n",
        "    cv2.rectangle(res_plotted, (x1, y1), (x2, y2), (0, 255, 0), 2)\n",
        "    print(f\" - {classNames[cls].upper():40s} (class number: {cls}) (confidence: {100*conf:.1f}%)\")\n",
        "\n",
        "  # Confronto con l'etichetta del dataset\n",
        "  print(\"\\nActual:\")\n",
        "  path = result.path.replace(\".jpeg\", \".txt\")\n",
        "  path = path.replace(\"images\", \"labels\")\n",
        "  height, width, channels = res_plotted.shape\n",
        "  labels = readCorrectLabel(path, width, height)\n",
        "\n",
        "  predicted_labels = boxes.xyxy\n",
        "\n",
        "  for label in sorted(labels):\n",
        "    number_of_object+=1;\n",
        "    c, x1, y1, x2, y2 = label\n",
        "    c = int(c)\n",
        "    detected = False\n",
        "    iou = 0.0\n",
        "    # Ricerco il bounding box corretto nelle predizioni\n",
        "    for i, predicted_label in enumerate(predicted_labels):\n",
        "      if c==boxes.cls[i]:\n",
        "        detected=True\n",
        "        x1, y1, x2, y2 = predicted_label\n",
        "        x1, y1, x2, y2 = int(x1), int(y1), int(x2), int(y2)\n",
        "        tmp = IoU(label[1:5], (x1, y1, x2, y2))\n",
        "        if tmp>iou:\n",
        "          iou=tmp\n",
        "    if detected and iou>threshold:\n",
        "      print(f\" - {classNames[label[0]].upper():40s} (class number: {label[0]}) IoU: {100*iou:.2f}%\")\n",
        "      number_of_detected_object+=1\n",
        "      IoU_sum+=iou\n",
        "    else:\n",
        "      print(f\" - {classNames[label[0]].upper():40s} (class number: {label[0]}) Not Detected\")\n",
        "\n",
        "  # Rilevo i False detection\n",
        "  false_detection = 0\n",
        "  n=len(predicted_labels)\n",
        "  found = [False for i in range(n)]\n",
        "  for i, predicted_label in enumerate(predicted_labels):\n",
        "    x1, y1, x2, y2 = predicted_label\n",
        "    x1, y1, x2, y2 = int(x1), int(y1), int(x2), int(y2)\n",
        "    for label in labels:\n",
        "        c, x1, y1, x2, y2 = label\n",
        "        c = int(c)\n",
        "        if c==boxes.cls[i] and found[i]==False and IoU(label[1:5], (x1, y1, x2, y2))>threshold:\n",
        "          found[i]=True\n",
        "  for i in range(n):\n",
        "    if found[i] == False:\n",
        "      false_detection+=1\n",
        "  print(f\"\\nFalse Detection: {false_detection}\")\n",
        "  false_detection_tot+=false_detection\n",
        "\n",
        "\n",
        "  print('='*100)"
      ]
    },
    {
      "cell_type": "markdown",
      "metadata": {
        "id": "ueF28_7eBzZA"
      },
      "source": [
        "# Statistiche"
      ]
    },
    {
      "cell_type": "code",
      "execution_count": null,
      "metadata": {
        "id": "DlFBpPVo_Ups"
      },
      "outputs": [],
      "source": [
        "print(f\"\"\"\n",
        "        \\n - Oggetti rilevati: {number_of_detected_object}/{number_of_object} ({100*number_of_detected_object/number_of_object:.2f}%)\n",
        "        \\n - IoU Medio: {100*IoU_sum/number_of_detected_object:.2f}%\n",
        "        \\n - False Detection: {false_detection_tot:d}\n",
        "      \"\"\")"
      ]
    }
  ],
  "metadata": {
    "colab": {
      "provenance": []
    },
    "kernelspec": {
      "display_name": "Python 3",
      "name": "python3"
    },
    "language_info": {
      "name": "python"
    }
  },
  "nbformat": 4,
  "nbformat_minor": 0
}